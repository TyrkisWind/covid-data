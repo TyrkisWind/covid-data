{
 "cells": [
  {
   "cell_type": "code",
   "execution_count": 2,
   "metadata": {},
   "outputs": [],
   "source": [
    "import pandas as pd\n",
    "import numpy as np"
   ]
  },
  {
   "cell_type": "markdown",
   "metadata": {},
   "source": [
    "Header\tDefinition\n",
    "Date:\tTime From Begining of Covid\n",
    "Location:\tAll Countries affected by Covid\n",
    "Variant:\tThe Kind of Covid\n",
    "Number Of Sequence:\tDaily number of Covid Case per kind?\n",
    "Perc Sequences:\tPercentage of Case\n",
    "Probationary:\tSometimes the character was given probationary status as an Avenger, this is the date that happened\n",
    "Number Of Total:\tTotal Case In Each Country"
   ]
  },
  {
   "cell_type": "code",
   "execution_count": 3,
   "metadata": {},
   "outputs": [
    {
     "data": {
      "text/html": [
       "<div>\n",
       "<style scoped>\n",
       "    .dataframe tbody tr th:only-of-type {\n",
       "        vertical-align: middle;\n",
       "    }\n",
       "\n",
       "    .dataframe tbody tr th {\n",
       "        vertical-align: top;\n",
       "    }\n",
       "\n",
       "    .dataframe thead th {\n",
       "        text-align: right;\n",
       "    }\n",
       "</style>\n",
       "<table border=\"1\" class=\"dataframe\">\n",
       "  <thead>\n",
       "    <tr style=\"text-align: right;\">\n",
       "      <th></th>\n",
       "      <th>location</th>\n",
       "      <th>date</th>\n",
       "      <th>variant</th>\n",
       "      <th>num_sequences</th>\n",
       "      <th>perc_sequences</th>\n",
       "      <th>num_sequences_total</th>\n",
       "    </tr>\n",
       "  </thead>\n",
       "  <tbody>\n",
       "    <tr>\n",
       "      <th>0</th>\n",
       "      <td>Angola</td>\n",
       "      <td>2020-07-06</td>\n",
       "      <td>Alpha</td>\n",
       "      <td>0</td>\n",
       "      <td>0.0</td>\n",
       "      <td>3</td>\n",
       "    </tr>\n",
       "    <tr>\n",
       "      <th>1</th>\n",
       "      <td>Angola</td>\n",
       "      <td>2020-07-06</td>\n",
       "      <td>B.1.1.277</td>\n",
       "      <td>0</td>\n",
       "      <td>0.0</td>\n",
       "      <td>3</td>\n",
       "    </tr>\n",
       "    <tr>\n",
       "      <th>2</th>\n",
       "      <td>Angola</td>\n",
       "      <td>2020-07-06</td>\n",
       "      <td>B.1.1.302</td>\n",
       "      <td>0</td>\n",
       "      <td>0.0</td>\n",
       "      <td>3</td>\n",
       "    </tr>\n",
       "    <tr>\n",
       "      <th>3</th>\n",
       "      <td>Angola</td>\n",
       "      <td>2020-07-06</td>\n",
       "      <td>B.1.1.519</td>\n",
       "      <td>0</td>\n",
       "      <td>0.0</td>\n",
       "      <td>3</td>\n",
       "    </tr>\n",
       "    <tr>\n",
       "      <th>4</th>\n",
       "      <td>Angola</td>\n",
       "      <td>2020-07-06</td>\n",
       "      <td>B.1.160</td>\n",
       "      <td>0</td>\n",
       "      <td>0.0</td>\n",
       "      <td>3</td>\n",
       "    </tr>\n",
       "  </tbody>\n",
       "</table>\n",
       "</div>"
      ],
      "text/plain": [
       "  location        date    variant  num_sequences  perc_sequences  \\\n",
       "0   Angola  2020-07-06      Alpha              0             0.0   \n",
       "1   Angola  2020-07-06  B.1.1.277              0             0.0   \n",
       "2   Angola  2020-07-06  B.1.1.302              0             0.0   \n",
       "3   Angola  2020-07-06  B.1.1.519              0             0.0   \n",
       "4   Angola  2020-07-06    B.1.160              0             0.0   \n",
       "\n",
       "   num_sequences_total  \n",
       "0                    3  \n",
       "1                    3  \n",
       "2                    3  \n",
       "3                    3  \n",
       "4                    3  "
      ]
     },
     "execution_count": 3,
     "metadata": {},
     "output_type": "execute_result"
    }
   ],
   "source": [
    "data_raw = pd.read_csv('covid-variants.csv')\n",
    "data_raw.head()"
   ]
  },
  {
   "cell_type": "code",
   "execution_count": 4,
   "metadata": {},
   "outputs": [
    {
     "name": "stdout",
     "output_type": "stream",
     "text": [
      "location   date        variant  num_sequences  perc_sequences  num_sequences_total\n",
      "Angola     2020-07-06  Alpha    0              0.0             3                      1\n",
      "Oman       2021-09-06  Kappa    0              0.0             1                      1\n",
      "                       Gamma    0              0.0             1                      1\n",
      "                       Eta      0              0.0             1                      1\n",
      "                       Epsilon  0              0.0             1                      1\n",
      "                                                                                     ..\n",
      "Guatemala  2020-11-09  Eta      0              0.0             29                     1\n",
      "                       Epsilon  0              0.0             29                     1\n",
      "                       Delta    0              0.0             29                     1\n",
      "                       Beta     0              0.0             29                     1\n",
      "Zimbabwe   2021-11-01  others   0              0.0             6                      1\n",
      "Length: 100416, dtype: int64\n"
     ]
    }
   ],
   "source": [
    "print(data_raw.value_counts())"
   ]
  },
  {
   "cell_type": "code",
   "execution_count": 5,
   "metadata": {},
   "outputs": [
    {
     "name": "stdout",
     "output_type": "stream",
     "text": [
      "Bangladesh        1080\n",
      "Belgium           1080\n",
      "United States     1080\n",
      "United Kingdom    1080\n",
      "France            1080\n",
      "                  ... \n",
      "Montenegro         384\n",
      "Monaco             360\n",
      "Fiji               336\n",
      "Benin              336\n",
      "Brunei             240\n",
      "Name: location, Length: 121, dtype: int64\n"
     ]
    }
   ],
   "source": [
    "print(data_raw['location'].value_counts())"
   ]
  },
  {
   "cell_type": "code",
   "execution_count": 6,
   "metadata": {},
   "outputs": [],
   "source": [
    "slovakia_data = data_raw.loc[data_raw['location'] == 'Slovakia']"
   ]
  },
  {
   "cell_type": "code",
   "execution_count": 8,
   "metadata": {},
   "outputs": [],
   "source": [
    "slovakia_data.to_csv('slovakia_data.csv')"
   ]
  },
  {
   "cell_type": "code",
   "execution_count": null,
   "metadata": {},
   "outputs": [],
   "source": []
  }
 ],
 "metadata": {
  "interpreter": {
   "hash": "8e81a7d408b84629da7280e4b5e5c6ea4c6dfe1c48d5b31641e461ecf54ae697"
  },
  "kernelspec": {
   "display_name": "Python 3.9.7 64-bit ('base': conda)",
   "language": "python",
   "name": "python3"
  },
  "language_info": {
   "codemirror_mode": {
    "name": "ipython",
    "version": 3
   },
   "file_extension": ".py",
   "mimetype": "text/x-python",
   "name": "python",
   "nbconvert_exporter": "python",
   "pygments_lexer": "ipython3",
   "version": "3.9.7"
  },
  "orig_nbformat": 4
 },
 "nbformat": 4,
 "nbformat_minor": 2
}
